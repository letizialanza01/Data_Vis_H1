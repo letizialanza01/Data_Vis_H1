{
 "cells": [
  {
   "cell_type": "markdown",
   "metadata": {},
   "source": [
    "**DATA VISUALIZATION HOMEWORK 1**\n",
    "\n",
    "**NAME:** Letizia \n",
    "\n",
    "**SURNAME:** Lanza\n",
    "\n",
    "**ID:** VR502321"
   ]
  },
  {
   "cell_type": "markdown",
   "metadata": {},
   "source": [
    "**HOMEWORK:**\n",
    "- create a chart to show how the relative share of various playlist_genres has changed over time\n",
    "- create a multiple line chart to show the evolution of the average song properties (only those normalized in the range 0-1 ) over time\n",
    "- create a small multiple chart with histograms of track popularity for the different genres. Choose an optimal binning\n",
    "- compare the distributions of the average song duration for the different genres using a visualization idiom for statistical analysis\n",
    "- create a chart showing the how much the attributes (popularity, danceability, energy, loudness, acousticness, instrumentalness, liveness, valence, tempo) are correlated. Use a proper colormap\n",
    "- visualize a scatter plot with songs released in 2010, representing loudness and danceability on the x-y coordinates, dots colored by genres and using a different mark (pre-attentive) to make a specific artist of your interest evident"
   ]
  },
  {
   "cell_type": "code",
   "execution_count": null,
   "metadata": {},
   "outputs": [],
   "source": []
  }
 ],
 "metadata": {
  "language_info": {
   "name": "python"
  }
 },
 "nbformat": 4,
 "nbformat_minor": 2
}
